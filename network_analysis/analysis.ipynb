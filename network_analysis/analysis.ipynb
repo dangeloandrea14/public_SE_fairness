{
 "cells": [
  {
   "cell_type": "code",
   "execution_count": 44,
   "metadata": {},
   "outputs": [],
   "source": [
    "import pandas as pd\n",
    "import os\n",
    "import numpy as np\n",
    "from tqdm import tqdm\n",
    "import networkx as nx\n",
    "import matplotlib.pyplot as plt\n",
    "import matplotlib\n",
    "import random\n",
    "import community"
   ]
  },
  {
   "cell_type": "code",
   "execution_count": 45,
   "metadata": {},
   "outputs": [
    {
     "data": {
      "text/html": [
       "<div>\n",
       "<style scoped>\n",
       "    .dataframe tbody tr th:only-of-type {\n",
       "        vertical-align: middle;\n",
       "    }\n",
       "\n",
       "    .dataframe tbody tr th {\n",
       "        vertical-align: top;\n",
       "    }\n",
       "\n",
       "    .dataframe thead th {\n",
       "        text-align: right;\n",
       "    }\n",
       "</style>\n",
       "<table border=\"1\" class=\"dataframe\">\n",
       "  <thead>\n",
       "    <tr style=\"text-align: right;\">\n",
       "      <th></th>\n",
       "      <th>ID_x</th>\n",
       "      <th>Sex_x</th>\n",
       "      <th>ID_y</th>\n",
       "      <th>Sex_y</th>\n",
       "    </tr>\n",
       "  </thead>\n",
       "  <tbody>\n",
       "    <tr>\n",
       "      <th>2120</th>\n",
       "      <td>1</td>\n",
       "      <td>male</td>\n",
       "      <td>2120</td>\n",
       "      <td>female</td>\n",
       "    </tr>\n",
       "    <tr>\n",
       "      <th>3174</th>\n",
       "      <td>3</td>\n",
       "      <td>male</td>\n",
       "      <td>3174</td>\n",
       "      <td>male</td>\n",
       "    </tr>\n",
       "    <tr>\n",
       "      <th>2641</th>\n",
       "      <td>5</td>\n",
       "      <td>female</td>\n",
       "      <td>2641</td>\n",
       "      <td>female</td>\n",
       "    </tr>\n",
       "    <tr>\n",
       "      <th>3024</th>\n",
       "      <td>6</td>\n",
       "      <td>male</td>\n",
       "      <td>3024</td>\n",
       "      <td>female</td>\n",
       "    </tr>\n",
       "    <tr>\n",
       "      <th>284</th>\n",
       "      <td>8</td>\n",
       "      <td>male</td>\n",
       "      <td>284</td>\n",
       "      <td>male</td>\n",
       "    </tr>\n",
       "  </tbody>\n",
       "</table>\n",
       "</div>"
      ],
      "text/plain": [
       "      ID_x   Sex_x  ID_y   Sex_y\n",
       "2120     1    male  2120  female\n",
       "3174     3    male  3174    male\n",
       "2641     5  female  2641  female\n",
       "3024     6    male  3024  female\n",
       "284      8    male   284    male"
      ]
     },
     "execution_count": 45,
     "metadata": {},
     "output_type": "execute_result"
    }
   ],
   "source": [
    "res_file = os.path.join(\"..\",\"processed_data\")\n",
    "prefix = \"all\"\n",
    "\n",
    "edges = pd.read_csv(os.path.join(res_file,\"se_edges.csv\"),index_col = 0)\n",
    "edges.head()"
   ]
  },
  {
   "cell_type": "code",
   "execution_count": 46,
   "metadata": {},
   "outputs": [
    {
     "data": {
      "text/plain": [
       "14660"
      ]
     },
     "execution_count": 46,
     "metadata": {},
     "output_type": "execute_result"
    }
   ],
   "source": [
    "len(edges)"
   ]
  },
  {
   "cell_type": "markdown",
   "metadata": {},
   "source": [
    "## Percentage of Men and Women"
   ]
  },
  {
   "cell_type": "code",
   "execution_count": 47,
   "metadata": {},
   "outputs": [
    {
     "data": {
      "text/html": [
       "<div>\n",
       "<style scoped>\n",
       "    .dataframe tbody tr th:only-of-type {\n",
       "        vertical-align: middle;\n",
       "    }\n",
       "\n",
       "    .dataframe tbody tr th {\n",
       "        vertical-align: top;\n",
       "    }\n",
       "\n",
       "    .dataframe thead th {\n",
       "        text-align: right;\n",
       "    }\n",
       "</style>\n",
       "<table border=\"1\" class=\"dataframe\">\n",
       "  <thead>\n",
       "    <tr style=\"text-align: right;\">\n",
       "      <th></th>\n",
       "      <th>ID_x</th>\n",
       "      <th>Sex_x</th>\n",
       "      <th>ID_y</th>\n",
       "      <th>Sex_y</th>\n",
       "    </tr>\n",
       "  </thead>\n",
       "  <tbody>\n",
       "    <tr>\n",
       "      <th>2120</th>\n",
       "      <td>1</td>\n",
       "      <td>male</td>\n",
       "      <td>2120</td>\n",
       "      <td>female</td>\n",
       "    </tr>\n",
       "    <tr>\n",
       "      <th>3174</th>\n",
       "      <td>3</td>\n",
       "      <td>male</td>\n",
       "      <td>3174</td>\n",
       "      <td>male</td>\n",
       "    </tr>\n",
       "    <tr>\n",
       "      <th>2641</th>\n",
       "      <td>5</td>\n",
       "      <td>female</td>\n",
       "      <td>2641</td>\n",
       "      <td>female</td>\n",
       "    </tr>\n",
       "    <tr>\n",
       "      <th>3024</th>\n",
       "      <td>6</td>\n",
       "      <td>male</td>\n",
       "      <td>3024</td>\n",
       "      <td>female</td>\n",
       "    </tr>\n",
       "    <tr>\n",
       "      <th>284</th>\n",
       "      <td>8</td>\n",
       "      <td>male</td>\n",
       "      <td>284</td>\n",
       "      <td>male</td>\n",
       "    </tr>\n",
       "    <tr>\n",
       "      <th>...</th>\n",
       "      <td>...</td>\n",
       "      <td>...</td>\n",
       "      <td>...</td>\n",
       "      <td>...</td>\n",
       "    </tr>\n",
       "    <tr>\n",
       "      <th>2908</th>\n",
       "      <td>3664</td>\n",
       "      <td>male</td>\n",
       "      <td>2908</td>\n",
       "      <td>male</td>\n",
       "    </tr>\n",
       "    <tr>\n",
       "      <th>2996</th>\n",
       "      <td>3664</td>\n",
       "      <td>male</td>\n",
       "      <td>2996</td>\n",
       "      <td>male</td>\n",
       "    </tr>\n",
       "    <tr>\n",
       "      <th>3203</th>\n",
       "      <td>3664</td>\n",
       "      <td>male</td>\n",
       "      <td>3203</td>\n",
       "      <td>male</td>\n",
       "    </tr>\n",
       "    <tr>\n",
       "      <th>3206</th>\n",
       "      <td>3664</td>\n",
       "      <td>male</td>\n",
       "      <td>3206</td>\n",
       "      <td>male</td>\n",
       "    </tr>\n",
       "    <tr>\n",
       "      <th>3230</th>\n",
       "      <td>3664</td>\n",
       "      <td>male</td>\n",
       "      <td>3230</td>\n",
       "      <td>male</td>\n",
       "    </tr>\n",
       "  </tbody>\n",
       "</table>\n",
       "<p>14660 rows × 4 columns</p>\n",
       "</div>"
      ],
      "text/plain": [
       "      ID_x   Sex_x  ID_y   Sex_y\n",
       "2120     1    male  2120  female\n",
       "3174     3    male  3174    male\n",
       "2641     5  female  2641  female\n",
       "3024     6    male  3024  female\n",
       "284      8    male   284    male\n",
       "...    ...     ...   ...     ...\n",
       "2908  3664    male  2908    male\n",
       "2996  3664    male  2996    male\n",
       "3203  3664    male  3203    male\n",
       "3206  3664    male  3206    male\n",
       "3230  3664    male  3230    male\n",
       "\n",
       "[14660 rows x 4 columns]"
      ]
     },
     "execution_count": 47,
     "metadata": {},
     "output_type": "execute_result"
    }
   ],
   "source": [
    "edges"
   ]
  },
  {
   "cell_type": "code",
   "execution_count": 48,
   "metadata": {},
   "outputs": [],
   "source": [
    "def makegraph(edges):\n",
    "    nodes = edges[['ID_x','Sex_x']].drop_duplicates().set_index('ID_x',drop=True)\n",
    "    graph = nx.from_pandas_edgelist(edges, source='ID_x', target='ID_y')\n",
    "    nx.set_node_attributes(graph, pd.Series(nodes.Sex_x, index=nodes.index).to_dict(), 'sex')\n",
    "\n",
    "    return graph\n",
    "\n",
    "def clustering_coefficient(graph):\n",
    "    return pd.DataFrame( nx.clustering(graph), index=[0] ).T.reset_index().rename(columns={'index':'node',0:'clustering_coeff'})"
   ]
  },
  {
   "cell_type": "markdown",
   "metadata": {},
   "source": [
    "## Homophily"
   ]
  },
  {
   "cell_type": "code",
   "execution_count": 49,
   "metadata": {},
   "outputs": [],
   "source": [
    "G = makegraph(edges)"
   ]
  },
  {
   "cell_type": "code",
   "execution_count": 50,
   "metadata": {},
   "outputs": [
    {
     "data": {
      "text/plain": [
       "2445"
      ]
     },
     "execution_count": 50,
     "metadata": {},
     "output_type": "execute_result"
    }
   ],
   "source": [
    "len(G)"
   ]
  },
  {
   "cell_type": "code",
   "execution_count": 51,
   "metadata": {},
   "outputs": [],
   "source": [
    "nodes_without_desired_attribute = []\n",
    "\n",
    "# Iterate through the nodes of the graph\n",
    "for node in G.nodes():\n",
    "    # Check if the node has the desired attribute\n",
    "    if \"sex\" not in G.nodes[node]:\n",
    "        nodes_without_desired_attribute.append(node)\n",
    "\n",
    "G.remove_nodes_from(nodes_without_desired_attribute)"
   ]
  },
  {
   "cell_type": "code",
   "execution_count": 52,
   "metadata": {},
   "outputs": [
    {
     "data": {
      "text/plain": [
       "2043"
      ]
     },
     "execution_count": 52,
     "metadata": {},
     "output_type": "execute_result"
    }
   ],
   "source": [
    "len(G)"
   ]
  },
  {
   "cell_type": "code",
   "execution_count": 53,
   "metadata": {},
   "outputs": [
    {
     "name": "stdout",
     "output_type": "stream",
     "text": [
      "Relative Homophily Index for sex: 0.099\n"
     ]
    }
   ],
   "source": [
    "def relative_homophily_index(G, attribute_name):\n",
    "    same_attribute_sum = 0\n",
    "    different_attribute_sum = 0\n",
    "    total_pairs = 0\n",
    "\n",
    "    for u, v in G.edges():\n",
    "        if attribute_name in G.nodes[u] and attribute_name in G.nodes[v]:\n",
    "            attribute_u = G.nodes[u][attribute_name]\n",
    "            attribute_v = G.nodes[v][attribute_name]\n",
    "\n",
    "            if attribute_u == attribute_v:\n",
    "                same_attribute_sum += 1\n",
    "            else:\n",
    "                different_attribute_sum += 1\n",
    "\n",
    "            total_pairs += 1\n",
    "\n",
    "    if total_pairs == 0:\n",
    "        return 0  # To avoid division by zero\n",
    "\n",
    "    observed_homophily = same_attribute_sum / total_pairs\n",
    "    group_size_u = sum(1 for node in G.nodes() if attribute_name in G.nodes[node] and G.nodes[node][attribute_name] == attribute_u)\n",
    "    group_size_v = sum(1 for node in G.nodes() if attribute_name in G.nodes[node] and G.nodes[node][attribute_name] == attribute_v)\n",
    "    expected_homophily = (group_size_u / len(G)) * (group_size_v / len(G)) # p * q\n",
    "    relative_homophily = (observed_homophily - expected_homophily) / (1 - expected_homophily) #(obs - (p*q) / 1 - (p*q))\n",
    "    \n",
    "    return relative_homophily\n",
    "\n",
    "\n",
    "attribute_name = 'sex'  \n",
    "\n",
    "relative_homophily = relative_homophily_index(G, attribute_name)\n",
    "print(f\"Relative Homophily Index for {attribute_name}: {relative_homophily:.3f}\")\n"
   ]
  },
  {
   "cell_type": "code",
   "execution_count": 54,
   "metadata": {},
   "outputs": [
    {
     "name": "stdout",
     "output_type": "stream",
     "text": [
      "1708\n",
      "335\n"
     ]
    }
   ],
   "source": [
    "men = [node for node in G.nodes() if 'sex' in G.nodes[node] and G.nodes[node]['sex'] == 'male']\n",
    "women = [node for node in G.nodes() if 'sex' in G.nodes[node] and G.nodes[node]['sex'] == 'female']\n",
    "\n",
    "print(len(men))\n",
    "print(len(women))"
   ]
  },
  {
   "cell_type": "code",
   "execution_count": 55,
   "metadata": {},
   "outputs": [],
   "source": [
    "p = len(men)/(len(men) + len(women))\n",
    "q = len(women)/(len(men) + len(women))"
   ]
  },
  {
   "cell_type": "code",
   "execution_count": 56,
   "metadata": {},
   "outputs": [],
   "source": [
    "men_men_edges = []\n",
    "women_women_edges = []\n",
    "cross_edges = []\n",
    "\n",
    "# Iterate through the edges of the graph\n",
    "for u, v in G.edges():\n",
    "    # Check the attributes of the nodes at the endpoints\n",
    "    if G.nodes[u][\"sex\"] == 'male' and G.nodes[v][\"sex\"] == 'male':\n",
    "        men_men_edges.append((u, v))\n",
    "\n",
    "    if G.nodes[u][\"sex\"] == 'female' and G.nodes[v][\"sex\"] == 'female':\n",
    "        women_women_edges.append((u, v))\n",
    "\n",
    "    if G.nodes[u][\"sex\"] == 'female' and G.nodes[v][\"sex\"] == 'male':\n",
    "        cross_edges.append((u, v))\n",
    "\n",
    "    if G.nodes[u][\"sex\"] == 'male' and G.nodes[v][\"sex\"] == 'female':\n",
    "        cross_edges.append((u, v))"
   ]
  },
  {
   "cell_type": "code",
   "execution_count": 57,
   "metadata": {},
   "outputs": [
    {
     "data": {
      "text/plain": [
       "0.2713239436619718"
      ]
     },
     "execution_count": 57,
     "metadata": {},
     "output_type": "execute_result"
    }
   ],
   "source": [
    "len( cross_edges ) / len( G.edges() )"
   ]
  },
  {
   "cell_type": "code",
   "execution_count": 58,
   "metadata": {},
   "outputs": [
    {
     "data": {
      "text/plain": [
       "0.2741737901874265"
      ]
     },
     "execution_count": 58,
     "metadata": {},
     "output_type": "execute_result"
    }
   ],
   "source": [
    "2*p*q"
   ]
  },
  {
   "cell_type": "code",
   "execution_count": 59,
   "metadata": {},
   "outputs": [
    {
     "data": {
      "text/plain": [
       "0.9896056930769841"
      ]
     },
     "execution_count": 59,
     "metadata": {},
     "output_type": "execute_result"
    }
   ],
   "source": [
    "( len( cross_edges ) / len( G.edges() ) ) / (2*p*q)"
   ]
  },
  {
   "cell_type": "markdown",
   "metadata": {},
   "source": [
    "## Clustering Coefficient"
   ]
  },
  {
   "cell_type": "markdown",
   "metadata": {},
   "source": [
    "We compute the Clustering Coefficient for three different graphs: the total one, the one composed only of women, and the one composed only of men."
   ]
  },
  {
   "cell_type": "code",
   "execution_count": 60,
   "metadata": {},
   "outputs": [],
   "source": [
    "css = pd.DataFrame()\n",
    "for i in range(10):\n",
    "    #add clustering coefficient to css\n",
    "    sampled_nodes = random.sample( list( G.edge_subgraph(men_men_edges).nodes ), len(women))\n",
    "    css = pd.concat([css, clustering_coefficient ( G.edge_subgraph(men_men_edges).subgraph(sampled_nodes) )], axis=1)    \n",
    "\n",
    "    #remove columns named \"node\"\n",
    "    css = css.drop(columns=['node'])"
   ]
  },
  {
   "cell_type": "code",
   "execution_count": 61,
   "metadata": {},
   "outputs": [
    {
     "data": {
      "image/png": "[encoded data removed]",
      "text/plain": [
       "<Figure size 1200x400 with 3 Axes>"
      ]
     },
     "metadata": {},
     "output_type": "display_data"
    }
   ],
   "source": [
    "fig, ( (ax_one,ax_two,ax_three)) = plt.subplots(nrows=1,ncols=3)\n",
    "axes= [ax_one,ax_two,ax_three]\n",
    "\n",
    "fig = plt.gcf()\n",
    "fig.set_size_inches(12,4)\n",
    "\n",
    "axes[0].boxplot(clustering_coefficient(G.edge_subgraph(men_men_edges))['clustering_coeff'])\n",
    "axes[0].set_title(\"Men\")\n",
    "\n",
    "axes[1].boxplot(clustering_coefficient(G.edge_subgraph(women_women_edges))['clustering_coeff'])\n",
    "axes[1].set_title(\"Women\")\n",
    "\n",
    "axes[2].boxplot( css.mean(axis=1) )\n",
    "axes[2].set_title(\"Men (sampled)\")\n",
    "\n",
    "\n",
    "for ax in axes:\n",
    "    ax.set_ylim(0,1.1)\n",
    "    ax.set_xlabel('')\n",
    "    ax.set_xticks([])\n",
    "\n",
    "fig.suptitle(\"Clustering Coefficient in SE community Worldwide\")\n",
    "\n",
    "\n",
    "fig.tight_layout()\n",
    "plt.show()"
   ]
  },
  {
   "cell_type": "code",
   "execution_count": 62,
   "metadata": {},
   "outputs": [
    {
     "name": "stdout",
     "output_type": "stream",
     "text": [
      "7.772945268703275e-06\n",
      "The difference is statistically significant.\n"
     ]
    }
   ],
   "source": [
    "from scipy import stats\n",
    "\n",
    "# Sample data for clustering coefficients of types A and B\n",
    "data_A = clustering_coefficient(G.edge_subgraph(men_men_edges))['clustering_coeff']\n",
    "data_B = clustering_coefficient(G.edge_subgraph(women_women_edges))['clustering_coeff']\n",
    "\n",
    "# Perform a Mann-Whitney U test\n",
    "U_statistic, p_value = stats.mannwhitneyu(data_A, data_B, alternative='two-sided')\n",
    "\n",
    "print(p_value)\n",
    "# Check the p-value to determine if the difference is statistically significant\n",
    "if p_value < 0.05:\n",
    "    print(\"The difference is statistically significant.\")\n",
    "else:\n",
    "    print(\"The difference is not statistically significant.\")"
   ]
  },
  {
   "cell_type": "code",
   "execution_count": 63,
   "metadata": {},
   "outputs": [
    {
     "name": "stdout",
     "output_type": "stream",
     "text": [
      "Mann-Whitney U Statistic: 189157.0\n",
      "95% Confidence Interval: (175711.67431558212, 202602.32568441788)\n"
     ]
    }
   ],
   "source": [
    "alpha = 0.05  # 95% confidence level\n",
    "z = stats.norm.ppf(1 - alpha / 2)\n",
    "n_A = len(data_A)\n",
    "n_B = len(data_B)\n",
    "# Calculate the standard error of U\n",
    "se_U = np.sqrt(n_A * n_B * (n_A + n_B + 1) / 12)\n",
    "\n",
    "# Calculate the lower and upper bounds of the confidence interval\n",
    "lower_bound = U_statistic - z * se_U\n",
    "upper_bound = U_statistic + z * se_U\n",
    "\n",
    "print(\"Mann-Whitney U Statistic:\", U_statistic)\n",
    "print(\"95% Confidence Interval:\", (lower_bound, upper_bound))"
   ]
  },
  {
   "cell_type": "markdown",
   "metadata": {},
   "source": [
    "## Community detection"
   ]
  },
  {
   "cell_type": "code",
   "execution_count": 64,
   "metadata": {},
   "outputs": [],
   "source": [
    "men_graph = G.edge_subgraph(men_men_edges)\n",
    "women_graph = G.edge_subgraph(women_women_edges)"
   ]
  },
  {
   "cell_type": "code",
   "execution_count": 65,
   "metadata": {},
   "outputs": [
    {
     "name": "stdout",
     "output_type": "stream",
     "text": [
      "Normalized Modularity for men: 0.0003514173997518459\n",
      "Normalized Modularity for women: 0.003437199162947287\n"
     ]
    }
   ],
   "source": [
    "# Apply Louvain community detection separately for types A and B\n",
    "communities_men = community.best_partition(men_graph)\n",
    "communities_women = community.best_partition(women_graph)\n",
    "\n",
    "# Calculate and normalize modularity for A and B\n",
    "modularity_men = community.modularity(communities_men, men_graph) / len(men_graph.nodes)\n",
    "modularity_women = community.modularity(communities_women, women_graph) / len(women_graph.nodes)\n",
    "\n",
    "# Print or analyze the normalized modularity values for comparison\n",
    "print(f\"Normalized Modularity for men: {modularity_men}\")\n",
    "print(f\"Normalized Modularity for women: {modularity_women}\")"
   ]
  }
 ],
 "metadata": {
  "kernelspec": {
   "display_name": "cloudnotebook",
   "language": "python",
   "name": "python3"
  },
  "language_info": {
   "codemirror_mode": {
    "name": "ipython",
    "version": 3
   },
   "file_extension": ".py",
   "mimetype": "text/x-python",
   "name": "python",
   "nbconvert_exporter": "python",
   "pygments_lexer": "ipython3",
   "version": "3.9.7"
  }
 },
 "nbformat": 4,
 "nbformat_minor": 2
}
