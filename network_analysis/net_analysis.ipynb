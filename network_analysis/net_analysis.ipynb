{
 "cells": [
  {
   "cell_type": "code",
   "execution_count": null,
   "metadata": {},
   "outputs": [],
   "source": [
    "import pandas as pd\n",
    "import os\n",
    "import numpy as np\n",
    "from tqdm import tqdm\n",
    "import networkx as nx\n",
    "import matplotlib.pyplot as plt\n",
    "import matplotlib\n",
    "import random\n",
    "import community"
   ]
  },
  {
   "cell_type": "code",
   "execution_count": 89,
   "metadata": {},
   "outputs": [
    {
     "data": {
      "text/html": [
       "<div>\n",
       "<style scoped>\n",
       "    .dataframe tbody tr th:only-of-type {\n",
       "        vertical-align: middle;\n",
       "    }\n",
       "\n",
       "    .dataframe tbody tr th {\n",
       "        vertical-align: top;\n",
       "    }\n",
       "\n",
       "    .dataframe thead th {\n",
       "        text-align: right;\n",
       "    }\n",
       "</style>\n",
       "<table border=\"1\" class=\"dataframe\">\n",
       "  <thead>\n",
       "    <tr style=\"text-align: right;\">\n",
       "      <th></th>\n",
       "      <th>ID_x</th>\n",
       "      <th>Sex_x</th>\n",
       "      <th>ID_y</th>\n",
       "      <th>Sex_y</th>\n",
       "    </tr>\n",
       "  </thead>\n",
       "  <tbody>\n",
       "    <tr>\n",
       "      <th>2120</th>\n",
       "      <td>1</td>\n",
       "      <td>male</td>\n",
       "      <td>2120</td>\n",
       "      <td>female</td>\n",
       "    </tr>\n",
       "    <tr>\n",
       "      <th>3174</th>\n",
       "      <td>3</td>\n",
       "      <td>male</td>\n",
       "      <td>3174</td>\n",
       "      <td>male</td>\n",
       "    </tr>\n",
       "    <tr>\n",
       "      <th>2641</th>\n",
       "      <td>5</td>\n",
       "      <td>female</td>\n",
       "      <td>2641</td>\n",
       "      <td>female</td>\n",
       "    </tr>\n",
       "    <tr>\n",
       "      <th>3024</th>\n",
       "      <td>6</td>\n",
       "      <td>male</td>\n",
       "      <td>3024</td>\n",
       "      <td>female</td>\n",
       "    </tr>\n",
       "    <tr>\n",
       "      <th>284</th>\n",
       "      <td>8</td>\n",
       "      <td>male</td>\n",
       "      <td>284</td>\n",
       "      <td>male</td>\n",
       "    </tr>\n",
       "  </tbody>\n",
       "</table>\n",
       "</div>"
      ],
      "text/plain": [
       "      ID_x   Sex_x  ID_y   Sex_y\n",
       "2120     1    male  2120  female\n",
       "3174     3    male  3174    male\n",
       "2641     5  female  2641  female\n",
       "3024     6    male  3024  female\n",
       "284      8    male   284    male"
      ]
     },
     "execution_count": 89,
     "metadata": {},
     "output_type": "execute_result"
    }
   ],
   "source": [
    "res_file = \"data\"\n",
    "prefix = \"all\"\n",
    "\n",
    "edges = pd.read_csv(os.path.join(res_file,\"worldwide_se_edges.csv\"),index_col = 0)\n",
    "edges.head()"
   ]
  },
  {
   "cell_type": "code",
   "execution_count": 90,
   "metadata": {},
   "outputs": [
    {
     "data": {
      "text/plain": [
       "14660"
      ]
     },
     "execution_count": 90,
     "metadata": {},
     "output_type": "execute_result"
    }
   ],
   "source": [
    "len(edges)"
   ]
  },
  {
   "cell_type": "markdown",
   "metadata": {},
   "source": [
    "## Percentage of Men and Women"
   ]
  },
  {
   "cell_type": "code",
   "execution_count": 91,
   "metadata": {},
   "outputs": [
    {
     "data": {
      "text/html": [
       "<div>\n",
       "<style scoped>\n",
       "    .dataframe tbody tr th:only-of-type {\n",
       "        vertical-align: middle;\n",
       "    }\n",
       "\n",
       "    .dataframe tbody tr th {\n",
       "        vertical-align: top;\n",
       "    }\n",
       "\n",
       "    .dataframe thead th {\n",
       "        text-align: right;\n",
       "    }\n",
       "</style>\n",
       "<table border=\"1\" class=\"dataframe\">\n",
       "  <thead>\n",
       "    <tr style=\"text-align: right;\">\n",
       "      <th></th>\n",
       "      <th>ID_x</th>\n",
       "      <th>Sex_x</th>\n",
       "      <th>ID_y</th>\n",
       "      <th>Sex_y</th>\n",
       "    </tr>\n",
       "  </thead>\n",
       "  <tbody>\n",
       "    <tr>\n",
       "      <th>2120</th>\n",
       "      <td>1</td>\n",
       "      <td>male</td>\n",
       "      <td>2120</td>\n",
       "      <td>female</td>\n",
       "    </tr>\n",
       "    <tr>\n",
       "      <th>3174</th>\n",
       "      <td>3</td>\n",
       "      <td>male</td>\n",
       "      <td>3174</td>\n",
       "      <td>male</td>\n",
       "    </tr>\n",
       "    <tr>\n",
       "      <th>2641</th>\n",
       "      <td>5</td>\n",
       "      <td>female</td>\n",
       "      <td>2641</td>\n",
       "      <td>female</td>\n",
       "    </tr>\n",
       "    <tr>\n",
       "      <th>3024</th>\n",
       "      <td>6</td>\n",
       "      <td>male</td>\n",
       "      <td>3024</td>\n",
       "      <td>female</td>\n",
       "    </tr>\n",
       "    <tr>\n",
       "      <th>284</th>\n",
       "      <td>8</td>\n",
       "      <td>male</td>\n",
       "      <td>284</td>\n",
       "      <td>male</td>\n",
       "    </tr>\n",
       "    <tr>\n",
       "      <th>...</th>\n",
       "      <td>...</td>\n",
       "      <td>...</td>\n",
       "      <td>...</td>\n",
       "      <td>...</td>\n",
       "    </tr>\n",
       "    <tr>\n",
       "      <th>2908</th>\n",
       "      <td>3664</td>\n",
       "      <td>male</td>\n",
       "      <td>2908</td>\n",
       "      <td>male</td>\n",
       "    </tr>\n",
       "    <tr>\n",
       "      <th>2996</th>\n",
       "      <td>3664</td>\n",
       "      <td>male</td>\n",
       "      <td>2996</td>\n",
       "      <td>male</td>\n",
       "    </tr>\n",
       "    <tr>\n",
       "      <th>3203</th>\n",
       "      <td>3664</td>\n",
       "      <td>male</td>\n",
       "      <td>3203</td>\n",
       "      <td>male</td>\n",
       "    </tr>\n",
       "    <tr>\n",
       "      <th>3206</th>\n",
       "      <td>3664</td>\n",
       "      <td>male</td>\n",
       "      <td>3206</td>\n",
       "      <td>male</td>\n",
       "    </tr>\n",
       "    <tr>\n",
       "      <th>3230</th>\n",
       "      <td>3664</td>\n",
       "      <td>male</td>\n",
       "      <td>3230</td>\n",
       "      <td>male</td>\n",
       "    </tr>\n",
       "  </tbody>\n",
       "</table>\n",
       "<p>14660 rows × 4 columns</p>\n",
       "</div>"
      ],
      "text/plain": [
       "      ID_x   Sex_x  ID_y   Sex_y\n",
       "2120     1    male  2120  female\n",
       "3174     3    male  3174    male\n",
       "2641     5  female  2641  female\n",
       "3024     6    male  3024  female\n",
       "284      8    male   284    male\n",
       "...    ...     ...   ...     ...\n",
       "2908  3664    male  2908    male\n",
       "2996  3664    male  2996    male\n",
       "3203  3664    male  3203    male\n",
       "3206  3664    male  3206    male\n",
       "3230  3664    male  3230    male\n",
       "\n",
       "[14660 rows x 4 columns]"
      ]
     },
     "execution_count": 91,
     "metadata": {},
     "output_type": "execute_result"
    }
   ],
   "source": [
    "edges"
   ]
  },
  {
   "cell_type": "code",
   "execution_count": 92,
   "metadata": {},
   "outputs": [],
   "source": [
    "def makegraph(edges):\n",
    "    nodes = edges[['ID_x','Sex_x']].drop_duplicates().set_index('ID_x',drop=True)\n",
    "    graph = nx.from_pandas_edgelist(edges, source='ID_x', target='ID_y')\n",
    "    nx.set_node_attributes(graph, pd.Series(nodes.Sex_x, index=nodes.index).to_dict(), 'sex')\n",
    "\n",
    "    return graph\n",
    "\n",
    "def clustering_coefficient(graph):\n",
    "    return pd.DataFrame( nx.clustering(graph), index=[0] ).T.reset_index().rename(columns={'index':'node',0:'clustering_coeff'})"
   ]
  },
  {
   "cell_type": "markdown",
   "metadata": {},
   "source": [
    "## Homophily"
   ]
  },
  {
   "cell_type": "code",
   "execution_count": 93,
   "metadata": {},
   "outputs": [],
   "source": [
    "G = makegraph(edges)"
   ]
  },
  {
   "cell_type": "code",
   "execution_count": 94,
   "metadata": {},
   "outputs": [
    {
     "data": {
      "text/plain": [
       "2445"
      ]
     },
     "execution_count": 94,
     "metadata": {},
     "output_type": "execute_result"
    }
   ],
   "source": [
    "len(G)"
   ]
  },
  {
   "cell_type": "code",
   "execution_count": 95,
   "metadata": {},
   "outputs": [],
   "source": [
    "nodes_without_desired_attribute = []\n",
    "\n",
    "# Iterate through the nodes of the graph\n",
    "for node in G.nodes():\n",
    "    # Check if the node has the desired attribute\n",
    "    if \"sex\" not in G.nodes[node]:\n",
    "        nodes_without_desired_attribute.append(node)\n",
    "\n",
    "G.remove_nodes_from(nodes_without_desired_attribute)"
   ]
  },
  {
   "cell_type": "code",
   "execution_count": 96,
   "metadata": {},
   "outputs": [
    {
     "data": {
      "text/plain": [
       "2043"
      ]
     },
     "execution_count": 96,
     "metadata": {},
     "output_type": "execute_result"
    }
   ],
   "source": [
    "len(G)"
   ]
  },
  {
   "cell_type": "code",
   "execution_count": 97,
   "metadata": {},
   "outputs": [
    {
     "name": "stdout",
     "output_type": "stream",
     "text": [
      "1708\n",
      "335\n"
     ]
    }
   ],
   "source": [
    "men = [node for node in G.nodes() if 'sex' in G.nodes[node] and G.nodes[node]['sex'] == 'male']\n",
    "women = [node for node in G.nodes() if 'sex' in G.nodes[node] and G.nodes[node]['sex'] == 'female']\n",
    "\n",
    "print(len(men))\n",
    "print(len(women))"
   ]
  },
  {
   "cell_type": "code",
   "execution_count": 98,
   "metadata": {},
   "outputs": [],
   "source": [
    "p = len(men)/(len(men) + len(women))\n",
    "q = len(women)/(len(men) + len(women))"
   ]
  },
  {
   "cell_type": "code",
   "execution_count": 99,
   "metadata": {},
   "outputs": [],
   "source": [
    "men_men_edges = []\n",
    "women_women_edges = []\n",
    "cross_edges = []\n",
    "\n",
    "# Iterate through the edges of the graph\n",
    "for u, v in G.edges():\n",
    "    # Check the attributes of the nodes at the endpoints\n",
    "    if G.nodes[u][\"sex\"] == 'male' and G.nodes[v][\"sex\"] == 'male':\n",
    "        men_men_edges.append((u, v))\n",
    "\n",
    "    if G.nodes[u][\"sex\"] == 'female' and G.nodes[v][\"sex\"] == 'female':\n",
    "        women_women_edges.append((u, v))\n",
    "\n",
    "    if G.nodes[u][\"sex\"] == 'female' and G.nodes[v][\"sex\"] == 'male':\n",
    "        cross_edges.append((u, v))\n",
    "\n",
    "    if G.nodes[u][\"sex\"] == 'male' and G.nodes[v][\"sex\"] == 'female':\n",
    "        cross_edges.append((u, v))"
   ]
  },
  {
   "cell_type": "code",
   "execution_count": 100,
   "metadata": {},
   "outputs": [
    {
     "data": {
      "text/plain": [
       "0.2713239436619718"
      ]
     },
     "execution_count": 100,
     "metadata": {},
     "output_type": "execute_result"
    }
   ],
   "source": [
    "len( cross_edges ) / len( G.edges() )"
   ]
  },
  {
   "cell_type": "code",
   "execution_count": 101,
   "metadata": {},
   "outputs": [
    {
     "data": {
      "text/plain": [
       "0.2741737901874265"
      ]
     },
     "execution_count": 101,
     "metadata": {},
     "output_type": "execute_result"
    }
   ],
   "source": [
    "2*p*q"
   ]
  },
  {
   "cell_type": "code",
   "execution_count": 102,
   "metadata": {},
   "outputs": [
    {
     "data": {
      "text/plain": [
       "0.9896056930769841"
      ]
     },
     "execution_count": 102,
     "metadata": {},
     "output_type": "execute_result"
    }
   ],
   "source": [
    "( len( cross_edges ) / len( G.edges() ) ) / (2*p*q)"
   ]
  },
  {
   "cell_type": "markdown",
   "metadata": {},
   "source": [
    "## Clustering Coefficient"
   ]
  },
  {
   "cell_type": "markdown",
   "metadata": {},
   "source": [
    "We compute the Clustering Coefficient for three different graphs: the total one, the one composed only of women, and the one composed only of men."
   ]
  },
  {
   "cell_type": "code",
   "execution_count": 103,
   "metadata": {},
   "outputs": [],
   "source": [
    "css = pd.DataFrame()\n",
    "for i in range(10):\n",
    "    #add clustering coefficient to css\n",
    "    sampled_nodes = random.sample( list( G.edge_subgraph(men_men_edges).nodes ), len(women))\n",
    "    css = pd.concat([css, clustering_coefficient ( G.edge_subgraph(men_men_edges).subgraph(sampled_nodes) )], axis=1)    \n",
    "\n",
    "    #remove columns named \"node\"\n",
    "    css = css.drop(columns=['node'])"
   ]
  },
  {
   "cell_type": "code",
   "execution_count": 104,
   "metadata": {},
   "outputs": [
    {
     "data": {
      "image/png": "[encoded data removed]",
      "text/plain": [
       "<Figure size 1200x400 with 3 Axes>"
      ]
     },
     "metadata": {},
     "output_type": "display_data"
    }
   ],
   "source": [
    "fig, ( (ax_one,ax_two,ax_three)) = plt.subplots(nrows=1,ncols=3)\n",
    "axes= [ax_one,ax_two,ax_three]\n",
    "\n",
    "fig = plt.gcf()\n",
    "fig.set_size_inches(12,4)\n",
    "\n",
    "axes[0].boxplot(clustering_coefficient(G.edge_subgraph(men_men_edges))['clustering_coeff'])\n",
    "axes[0].set_title(\"Men\")\n",
    "\n",
    "axes[1].boxplot(clustering_coefficient(G.edge_subgraph(women_women_edges))['clustering_coeff'])\n",
    "axes[1].set_title(\"Women\")\n",
    "\n",
    "axes[2].boxplot( css.mean(axis=1) )\n",
    "axes[2].set_title(\"Men (sampled)\")\n",
    "\n",
    "\n",
    "for ax in axes:\n",
    "    ax.set_ylim(0,1.1)\n",
    "    ax.set_xlabel('')\n",
    "    ax.set_xticks([])\n",
    "\n",
    "fig.suptitle(\"Clustering Coefficient in SE community Worldwide\")\n",
    "\n",
    "\n",
    "fig.tight_layout()\n",
    "plt.show()"
   ]
  },
  {
   "cell_type": "code",
   "execution_count": 105,
   "metadata": {},
   "outputs": [
    {
     "name": "stdout",
     "output_type": "stream",
     "text": [
      "7.772945268703275e-06\n",
      "The difference is statistically significant.\n"
     ]
    }
   ],
   "source": [
    "from scipy import stats\n",
    "\n",
    "# Sample data for clustering coefficients of types A and B\n",
    "data_A = clustering_coefficient(G.edge_subgraph(men_men_edges))['clustering_coeff']\n",
    "data_B = clustering_coefficient(G.edge_subgraph(women_women_edges))['clustering_coeff']\n",
    "\n",
    "# Perform a Mann-Whitney U test\n",
    "U_statistic, p_value = stats.mannwhitneyu(data_A, data_B, alternative='two-sided')\n",
    "\n",
    "print(p_value)\n",
    "# Check the p-value to determine if the difference is statistically significant\n",
    "if p_value < 0.05:\n",
    "    print(\"The difference is statistically significant.\")\n",
    "else:\n",
    "    print(\"The difference is not statistically significant.\")"
   ]
  },
  {
   "cell_type": "code",
   "execution_count": 106,
   "metadata": {},
   "outputs": [
    {
     "name": "stdout",
     "output_type": "stream",
     "text": [
      "Mann-Whitney U Statistic: 189157.0\n",
      "95% Confidence Interval: (175711.67431558212, 202602.32568441788)\n"
     ]
    }
   ],
   "source": [
    "alpha = 0.05  # 95% confidence level\n",
    "z = stats.norm.ppf(1 - alpha / 2)\n",
    "n_A = len(data_A)\n",
    "n_B = len(data_B)\n",
    "# Calculate the standard error of U\n",
    "se_U = np.sqrt(n_A * n_B * (n_A + n_B + 1) / 12)\n",
    "\n",
    "# Calculate the lower and upper bounds of the confidence interval\n",
    "lower_bound = U_statistic - z * se_U\n",
    "upper_bound = U_statistic + z * se_U\n",
    "\n",
    "print(\"Mann-Whitney U Statistic:\", U_statistic)\n",
    "print(\"95% Confidence Interval:\", (lower_bound, upper_bound))"
   ]
  },
  {
   "cell_type": "markdown",
   "metadata": {},
   "source": [
    "## Community detection"
   ]
  },
  {
   "cell_type": "code",
   "execution_count": 107,
   "metadata": {},
   "outputs": [],
   "source": [
    "men_graph = G.edge_subgraph(men_men_edges)\n",
    "women_graph = G.edge_subgraph(women_women_edges)"
   ]
  },
  {
   "cell_type": "code",
   "execution_count": 108,
   "metadata": {},
   "outputs": [
    {
     "name": "stdout",
     "output_type": "stream",
     "text": [
      "Normalized Modularity for men: 0.00034854445461160905\n",
      "Normalized Modularity for women: 0.0034388729086422634\n"
     ]
    }
   ],
   "source": [
    "# Apply Louvain community detection separately for types A and B\n",
    "communities_men = community.best_partition(men_graph)\n",
    "communities_women = community.best_partition(women_graph)\n",
    "\n",
    "# Calculate and normalize modularity for A and B\n",
    "modularity_men = community.modularity(communities_men, men_graph) / len(men_graph.nodes)\n",
    "modularity_women = community.modularity(communities_women, women_graph) / len(women_graph.nodes)\n",
    "\n",
    "# Print or analyze the normalized modularity values for comparison\n",
    "print(f\"Normalized Modularity for men: {modularity_men}\")\n",
    "print(f\"Normalized Modularity for women: {modularity_women}\")"
   ]
  },
  {
   "cell_type": "markdown",
   "metadata": {},
   "source": [
    "# Italy"
   ]
  },
  {
   "cell_type": "code",
   "execution_count": 109,
   "metadata": {},
   "outputs": [
    {
     "data": {
      "text/html": [
       "<div>\n",
       "<style scoped>\n",
       "    .dataframe tbody tr th:only-of-type {\n",
       "        vertical-align: middle;\n",
       "    }\n",
       "\n",
       "    .dataframe tbody tr th {\n",
       "        vertical-align: top;\n",
       "    }\n",
       "\n",
       "    .dataframe thead th {\n",
       "        text-align: right;\n",
       "    }\n",
       "</style>\n",
       "<table border=\"1\" class=\"dataframe\">\n",
       "  <thead>\n",
       "    <tr style=\"text-align: right;\">\n",
       "      <th></th>\n",
       "      <th>Sex_x</th>\n",
       "      <th>Sex_y</th>\n",
       "      <th>ID_x</th>\n",
       "      <th>ID_y</th>\n",
       "    </tr>\n",
       "  </thead>\n",
       "  <tbody>\n",
       "    <tr>\n",
       "      <th>0</th>\n",
       "      <td>male</td>\n",
       "      <td>male</td>\n",
       "      <td>59</td>\n",
       "      <td>48</td>\n",
       "    </tr>\n",
       "    <tr>\n",
       "      <th>1</th>\n",
       "      <td>male</td>\n",
       "      <td>male</td>\n",
       "      <td>1</td>\n",
       "      <td>48</td>\n",
       "    </tr>\n",
       "    <tr>\n",
       "      <th>2</th>\n",
       "      <td>male</td>\n",
       "      <td>male</td>\n",
       "      <td>33</td>\n",
       "      <td>48</td>\n",
       "    </tr>\n",
       "    <tr>\n",
       "      <th>3</th>\n",
       "      <td>male</td>\n",
       "      <td>male</td>\n",
       "      <td>52</td>\n",
       "      <td>48</td>\n",
       "    </tr>\n",
       "    <tr>\n",
       "      <th>4</th>\n",
       "      <td>male</td>\n",
       "      <td>male</td>\n",
       "      <td>49</td>\n",
       "      <td>48</td>\n",
       "    </tr>\n",
       "  </tbody>\n",
       "</table>\n",
       "</div>"
      ],
      "text/plain": [
       "  Sex_x Sex_y  ID_x  ID_y\n",
       "0  male  male    59    48\n",
       "1  male  male     1    48\n",
       "2  male  male    33    48\n",
       "3  male  male    52    48\n",
       "4  male  male    49    48"
      ]
     },
     "execution_count": 109,
     "metadata": {},
     "output_type": "execute_result"
    }
   ],
   "source": [
    "prefix = \"ita\"\n",
    "\n",
    "edges = pd.read_csv(os.path.join(res_file,\"italian_se_edges.csv\"),index_col = 0)\n",
    "edges.head()"
   ]
  },
  {
   "cell_type": "code",
   "execution_count": 110,
   "metadata": {},
   "outputs": [],
   "source": [
    "G = makegraph(edges)\n",
    "\n",
    "nodes_without_desired_attribute = []\n",
    "\n",
    "# Iterate through the nodes of the graph\n",
    "for node in G.nodes():\n",
    "    # Check if the node has the desired attribute\n",
    "    if \"sex\" not in G.nodes[node]:\n",
    "        nodes_without_desired_attribute.append(node)\n",
    "\n",
    "G.remove_nodes_from(nodes_without_desired_attribute)"
   ]
  },
  {
   "cell_type": "code",
   "execution_count": 111,
   "metadata": {},
   "outputs": [
    {
     "name": "stdout",
     "output_type": "stream",
     "text": [
      "63\n",
      "19\n"
     ]
    }
   ],
   "source": [
    "men = [node for node in G.nodes() if 'sex' in G.nodes[node] and G.nodes[node]['sex'] == 'male']\n",
    "women = [node for node in G.nodes() if 'sex' in G.nodes[node] and G.nodes[node]['sex'] == 'female']\n",
    "\n",
    "print(len(men))\n",
    "print(len(women))"
   ]
  },
  {
   "cell_type": "code",
   "execution_count": 112,
   "metadata": {},
   "outputs": [],
   "source": [
    "p = len(men)/(len(men) + len(women))\n",
    "q = len(women)/(len(men) + len(women))"
   ]
  },
  {
   "cell_type": "code",
   "execution_count": 113,
   "metadata": {},
   "outputs": [],
   "source": [
    "men_men_edges = []\n",
    "women_women_edges = []\n",
    "cross_edges = []\n",
    "\n",
    "# Iterate through the edges of the graph\n",
    "for u, v in G.edges():\n",
    "    # Check the attributes of the nodes at the endpoints\n",
    "    if G.nodes[u][\"sex\"] == 'male' and G.nodes[v][\"sex\"] == 'male':\n",
    "        men_men_edges.append((u, v))\n",
    "\n",
    "    if G.nodes[u][\"sex\"] == 'female' and G.nodes[v][\"sex\"] == 'female':\n",
    "        women_women_edges.append((u, v))\n",
    "\n",
    "    if G.nodes[u][\"sex\"] == 'female' and G.nodes[v][\"sex\"] == 'male':\n",
    "        cross_edges.append((u, v))\n",
    "\n",
    "    if G.nodes[u][\"sex\"] == 'male' and G.nodes[v][\"sex\"] == 'female':\n",
    "        cross_edges.append((u, v))"
   ]
  },
  {
   "cell_type": "code",
   "execution_count": 114,
   "metadata": {},
   "outputs": [
    {
     "data": {
      "text/plain": [
       "0.4055299539170507"
      ]
     },
     "execution_count": 114,
     "metadata": {},
     "output_type": "execute_result"
    }
   ],
   "source": [
    "len( cross_edges ) / len( G.edges() )"
   ]
  },
  {
   "cell_type": "code",
   "execution_count": 115,
   "metadata": {},
   "outputs": [
    {
     "data": {
      "text/plain": [
       "0.35603807257584774"
      ]
     },
     "execution_count": 115,
     "metadata": {},
     "output_type": "execute_result"
    }
   ],
   "source": [
    "2*p*q"
   ]
  },
  {
   "cell_type": "code",
   "execution_count": 116,
   "metadata": {},
   "outputs": [],
   "source": [
    "css = pd.DataFrame()\n",
    "for i in range(10):\n",
    "    #add clustering coefficient to css\n",
    "    sampled_nodes = random.sample( list( G.edge_subgraph(men_men_edges).nodes ), len(women))\n",
    "    css = pd.concat([css, clustering_coefficient ( G.edge_subgraph(men_men_edges).subgraph(sampled_nodes) )], axis=1)    \n",
    "\n",
    "    #remove columns named \"node\"\n",
    "    css = css.drop(columns=['node'])"
   ]
  },
  {
   "cell_type": "code",
   "execution_count": 117,
   "metadata": {},
   "outputs": [
    {
     "data": {
      "image/png": "[encoded data removed]",
      "text/plain": [
       "<Figure size 1200x400 with 3 Axes>"
      ]
     },
     "metadata": {},
     "output_type": "display_data"
    }
   ],
   "source": [
    "fig, ( (ax_one,ax_two,ax_three)) = plt.subplots(nrows=1,ncols=3)\n",
    "axes= [ax_one,ax_two,ax_three]\n",
    "\n",
    "fig = plt.gcf()\n",
    "fig.set_size_inches(12,4)\n",
    "\n",
    "axes[0].boxplot(clustering_coefficient(G.edge_subgraph(men_men_edges))['clustering_coeff'])\n",
    "axes[0].set_title(\"Men\")\n",
    "\n",
    "axes[1].boxplot(clustering_coefficient(G.edge_subgraph(women_women_edges))['clustering_coeff'])\n",
    "axes[1].set_title(\"Women\")\n",
    "\n",
    "axes[2].boxplot( css.mean(axis=1) )\n",
    "axes[2].set_title(\"Men (sampled)\")\n",
    "\n",
    "\n",
    "for ax in axes:\n",
    "    ax.set_ylim(0,1.1)\n",
    "    ax.set_xlabel('')\n",
    "    ax.set_xticks([])\n",
    "\n",
    "fig.suptitle(\"Clustering Coefficient in SE community Worldwide\")\n",
    "\n",
    "\n",
    "fig.tight_layout()\n",
    "plt.show()"
   ]
  },
  {
   "cell_type": "code",
   "execution_count": 118,
   "metadata": {},
   "outputs": [],
   "source": [
    "men_graph = G.edge_subgraph(men_men_edges)\n",
    "women_graph = G.edge_subgraph(women_women_edges)"
   ]
  },
  {
   "cell_type": "code",
   "execution_count": 119,
   "metadata": {},
   "outputs": [
    {
     "name": "stdout",
     "output_type": "stream",
     "text": [
      "Normalized Modularity for men: 0.009960085196088373\n",
      "Normalized Modularity for women: 0.03567708333333333\n"
     ]
    }
   ],
   "source": [
    "# Apply Louvain community detection separately for types A and B\n",
    "communities_men = community.best_partition(men_graph)\n",
    "communities_women = community.best_partition(women_graph)\n",
    "\n",
    "# Calculate and normalize modularity for A and B\n",
    "modularity_men = community.modularity(communities_men, men_graph) / len(men_graph.nodes)\n",
    "modularity_women = community.modularity(communities_women, women_graph) / len(women_graph.nodes)\n",
    "\n",
    "# Print or analyze the normalized modularity values for comparison\n",
    "print(f\"Normalized Modularity for men: {modularity_men}\")\n",
    "print(f\"Normalized Modularity for women: {modularity_women}\")"
   ]
  }
 ],
 "metadata": {
  "kernelspec": {
   "display_name": "cloudnotebook",
   "language": "python",
   "name": "python3"
  },
  "language_info": {
   "codemirror_mode": {
    "name": "ipython",
    "version": 3
   },
   "file_extension": ".py",
   "mimetype": "text/x-python",
   "name": "python",
   "nbconvert_exporter": "python",
   "pygments_lexer": "ipython3",
   "version": "3.9.7"
  }
 },
 "nbformat": 4,
 "nbformat_minor": 2
}
